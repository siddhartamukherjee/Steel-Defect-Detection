{
 "cells": [
  {
   "cell_type": "code",
   "execution_count": 15,
   "id": "homeless-sense",
   "metadata": {},
   "outputs": [],
   "source": [
    "import pandas as pd\n",
    "import cv2\n",
    "import numpy as np\n",
    "import pandas as pd\n",
    "import matplotlib.pyplot as plt\n",
    "%matplotlib inline"
   ]
  },
  {
   "cell_type": "code",
   "execution_count": 16,
   "id": "funny-israeli",
   "metadata": {},
   "outputs": [],
   "source": [
    "class Visualization:\n",
    "    \n",
    "    def __init__(self,df, class_id, samples):\n",
    "        self.df = df\n",
    "        self.class_id = class_id\n",
    "        self.samples = samples\n",
    "        self.display_images()\n",
    "        \n",
    "    def display_images(self):\n",
    "        columns = 1\n",
    "        rows = self.samples\n",
    "        fig = plt.figure(figsize=(20,columns*rows+6))\n",
    "        for i in range(1,columns*rows+1):\n",
    "            fn = self.df[self.df['ClassId'] == self.class_id]['ImageId'].iloc[i]\n",
    "            fig.add_subplot(rows, columns, i).set_title(fn)\n",
    "            img = cv2.imread('./train_images/'+fn )\n",
    "            img = cv2.cvtColor(img, cv2.COLOR_BGR2RGB)\n",
    "            mask = self.rle2mask(df['EncodedPixels'].iloc[i], (256, 1600))\n",
    "            img[mask==1,0] = 255\n",
    "            plt.imshow(img)\n",
    "        plt.show()\n",
    "        \n",
    "    def rle2mask(self, rle, imgshape):\n",
    "        width = imgshape[0]\n",
    "        height= imgshape[1]\n",
    "    \n",
    "        mask= np.zeros( width*height ).astype(np.uint8)\n",
    "    \n",
    "        array = np.asarray([int(x) for x in rle.split()])\n",
    "        starts = array[0::2]\n",
    "        lengths = array[1::2]\n",
    "\n",
    "        current_position = 0\n",
    "        for index, start in enumerate(starts):\n",
    "            mask[int(start):int(start+lengths[index])] = 1\n",
    "            current_position += lengths[index]\n",
    "        \n",
    "        return np.flipud( np.rot90( mask.reshape(height, width), k=1 ) )\n",
    "    "
   ]
  },
  {
   "cell_type": "code",
   "execution_count": null,
   "id": "promotional-injury",
   "metadata": {},
   "outputs": [],
   "source": []
  }
 ],
 "metadata": {
  "kernelspec": {
   "display_name": "Python 3",
   "language": "python",
   "name": "python3"
  },
  "language_info": {
   "codemirror_mode": {
    "name": "ipython",
    "version": 3
   },
   "file_extension": ".py",
   "mimetype": "text/x-python",
   "name": "python",
   "nbconvert_exporter": "python",
   "pygments_lexer": "ipython3",
   "version": "3.7.3"
  }
 },
 "nbformat": 4,
 "nbformat_minor": 5
}
